{
 "cells": [
  {
   "cell_type": "code",
   "execution_count": 1,
   "id": "b6c0f110",
   "metadata": {},
   "outputs": [],
   "source": [
    "import numpy as np\n",
    "import pandas as pd"
   ]
  },
  {
   "cell_type": "code",
   "execution_count": 28,
   "id": "631a31a0",
   "metadata": {},
   "outputs": [],
   "source": [
    "a = [\"AXO145\", \"TRU151\", \"ZOD231\", \"YRT326\", \"LWR245\"]\n",
    "b = [\"<url>https://xcd32112.smart_meter.com</url>\",\n",
    "                    \"<url>http://tXh67.dia_meter.com</url>\",\n",
    "                    \"<url>http://yT5495.smart_meter.com</url>\",\n",
    "                    \"<url>https://ret323_TRu.crown.com</url>\",\n",
    "                    \"<url>https://luwr3243.celcius.com</url>\"]\n",
    "x = \"<url>https://xcd32112.smart_meter.com</url>\"\n",
    "y = \"<url>http://tXh67.dia_meter.com</url>\"\n",
    "z = \"<url>http://yT5495.smart_meter.com</url>\"\n",
    "t = \"<url>https://ret323_TRu.crown.com</url>\"\n",
    "p = \"<url>https://luwr3243.celcius.com</url>\""
   ]
  },
  {
   "cell_type": "code",
   "execution_count": 5,
   "id": "57fbced9",
   "metadata": {},
   "outputs": [],
   "source": [
    "df_Device_Type = pd.DataFrame(a, columns=[\"Device_Type\"])\n",
    "df_Stats_Access_Link = pd.DataFrame(b, columns =[\"Stats_Access_Link\"])"
   ]
  },
  {
   "cell_type": "code",
   "execution_count": 12,
   "id": "27879c1e",
   "metadata": {},
   "outputs": [
    {
     "data": {
      "text/html": [
       "<div>\n",
       "<style scoped>\n",
       "    .dataframe tbody tr th:only-of-type {\n",
       "        vertical-align: middle;\n",
       "    }\n",
       "\n",
       "    .dataframe tbody tr th {\n",
       "        vertical-align: top;\n",
       "    }\n",
       "\n",
       "    .dataframe thead th {\n",
       "        text-align: right;\n",
       "    }\n",
       "</style>\n",
       "<table border=\"1\" class=\"dataframe\">\n",
       "  <thead>\n",
       "    <tr style=\"text-align: right;\">\n",
       "      <th></th>\n",
       "      <th>Device_Type</th>\n",
       "      <th>Stats_Access_Link</th>\n",
       "    </tr>\n",
       "  </thead>\n",
       "  <tbody>\n",
       "    <tr>\n",
       "      <th>0</th>\n",
       "      <td>AXO145</td>\n",
       "      <td>&lt;url&gt;https://xcd32112.smart_meter.com&lt;/url&gt;</td>\n",
       "    </tr>\n",
       "    <tr>\n",
       "      <th>1</th>\n",
       "      <td>TRU151</td>\n",
       "      <td>&lt;url&gt;http://tXh67.dia_meter.com&lt;/url&gt;</td>\n",
       "    </tr>\n",
       "    <tr>\n",
       "      <th>2</th>\n",
       "      <td>ZOD231</td>\n",
       "      <td>&lt;url&gt;http://yT5495.smart_meter.com&lt;/url&gt;</td>\n",
       "    </tr>\n",
       "    <tr>\n",
       "      <th>3</th>\n",
       "      <td>YRT326</td>\n",
       "      <td>&lt;url&gt;https://ret323_TRu.crown.com&lt;/url&gt;</td>\n",
       "    </tr>\n",
       "    <tr>\n",
       "      <th>4</th>\n",
       "      <td>LWR245</td>\n",
       "      <td>&lt;url&gt;https://luwr3243.celcius.com&lt;/url&gt;</td>\n",
       "    </tr>\n",
       "  </tbody>\n",
       "</table>\n",
       "</div>"
      ],
      "text/plain": [
       "  Device_Type                            Stats_Access_Link\n",
       "0      AXO145  <url>https://xcd32112.smart_meter.com</url>\n",
       "1      TRU151        <url>http://tXh67.dia_meter.com</url>\n",
       "2      ZOD231     <url>http://yT5495.smart_meter.com</url>\n",
       "3      YRT326      <url>https://ret323_TRu.crown.com</url>\n",
       "4      LWR245      <url>https://luwr3243.celcius.com</url>"
      ]
     },
     "execution_count": 12,
     "metadata": {},
     "output_type": "execute_result"
    }
   ],
   "source": [
    "data = pd.concat([df_Device_Type, df_Stats_Access_Link], axis = 1)\n",
    "data"
   ]
  },
  {
   "cell_type": "code",
   "execution_count": 19,
   "id": "6ed17a64",
   "metadata": {},
   "outputs": [
    {
     "data": {
      "text/plain": [
       "'xcd32112.smart_meter.com'"
      ]
     },
     "execution_count": 19,
     "metadata": {},
     "output_type": "execute_result"
    }
   ],
   "source": [
    "result_x = x.strip(\"</url>https:\")\n",
    "result_x"
   ]
  },
  {
   "cell_type": "code",
   "execution_count": 31,
   "id": "d83e4cc9",
   "metadata": {},
   "outputs": [
    {
     "data": {
      "text/plain": [
       "'Xh67.dia_meter.com'"
      ]
     },
     "execution_count": 31,
     "metadata": {},
     "output_type": "execute_result"
    }
   ],
   "source": [
    "result_y = y.strip(\"</url>https:\")\n",
    "result_y"
   ]
  },
  {
   "cell_type": "code",
   "execution_count": 25,
   "id": "ca867e18",
   "metadata": {},
   "outputs": [
    {
     "data": {
      "text/plain": [
       "'yT5495.smart_meter.com'"
      ]
     },
     "execution_count": 25,
     "metadata": {},
     "output_type": "execute_result"
    }
   ],
   "source": [
    "result_z = z.strip(\"</url>https:\")\n",
    "result_z"
   ]
  },
  {
   "cell_type": "code",
   "execution_count": 26,
   "id": "fc133fb1",
   "metadata": {},
   "outputs": [
    {
     "data": {
      "text/plain": [
       "'et323_TRu.crown.com'"
      ]
     },
     "execution_count": 26,
     "metadata": {},
     "output_type": "execute_result"
    }
   ],
   "source": [
    "result_t = t.strip(\"</url>https:\")\n",
    "result_t"
   ]
  },
  {
   "cell_type": "code",
   "execution_count": 27,
   "id": "2cf781a2",
   "metadata": {},
   "outputs": [
    {
     "data": {
      "text/plain": [
       "'wr3243.celcius.com'"
      ]
     },
     "execution_count": 27,
     "metadata": {},
     "output_type": "execute_result"
    }
   ],
   "source": [
    "result_p = p.strip(\"</url>https:\")\n",
    "result_p "
   ]
  },
  {
   "cell_type": "code",
   "execution_count": 32,
   "id": "3d2fff73",
   "metadata": {},
   "outputs": [],
   "source": [
    "results = ['xcd32112.smart_meter.com',\n",
    "          'Xh67.dia_meter.com',\n",
    "          'yT5495.smart_meter.com',\n",
    "          'et323_TRu.crown.com',\n",
    "          'wr3243.celcius.com']"
   ]
  },
  {
   "cell_type": "code",
   "execution_count": 33,
   "id": "ee6af192",
   "metadata": {},
   "outputs": [],
   "source": [
    "df_links = pd.DataFrame(results, columns=[\"Links\"])"
   ]
  },
  {
   "cell_type": "code",
   "execution_count": 34,
   "id": "a92531d8",
   "metadata": {},
   "outputs": [
    {
     "data": {
      "text/html": [
       "<div>\n",
       "<style scoped>\n",
       "    .dataframe tbody tr th:only-of-type {\n",
       "        vertical-align: middle;\n",
       "    }\n",
       "\n",
       "    .dataframe tbody tr th {\n",
       "        vertical-align: top;\n",
       "    }\n",
       "\n",
       "    .dataframe thead th {\n",
       "        text-align: right;\n",
       "    }\n",
       "</style>\n",
       "<table border=\"1\" class=\"dataframe\">\n",
       "  <thead>\n",
       "    <tr style=\"text-align: right;\">\n",
       "      <th></th>\n",
       "      <th>Device_Type</th>\n",
       "      <th>Stats_Access_Link</th>\n",
       "      <th>Links</th>\n",
       "    </tr>\n",
       "  </thead>\n",
       "  <tbody>\n",
       "    <tr>\n",
       "      <th>0</th>\n",
       "      <td>AXO145</td>\n",
       "      <td>&lt;url&gt;https://xcd32112.smart_meter.com&lt;/url&gt;</td>\n",
       "      <td>xcd32112.smart_meter.com</td>\n",
       "    </tr>\n",
       "    <tr>\n",
       "      <th>1</th>\n",
       "      <td>TRU151</td>\n",
       "      <td>&lt;url&gt;http://tXh67.dia_meter.com&lt;/url&gt;</td>\n",
       "      <td>Xh67.dia_meter.com</td>\n",
       "    </tr>\n",
       "    <tr>\n",
       "      <th>2</th>\n",
       "      <td>ZOD231</td>\n",
       "      <td>&lt;url&gt;http://yT5495.smart_meter.com&lt;/url&gt;</td>\n",
       "      <td>yT5495.smart_meter.com</td>\n",
       "    </tr>\n",
       "    <tr>\n",
       "      <th>3</th>\n",
       "      <td>YRT326</td>\n",
       "      <td>&lt;url&gt;https://ret323_TRu.crown.com&lt;/url&gt;</td>\n",
       "      <td>et323_TRu.crown.com</td>\n",
       "    </tr>\n",
       "    <tr>\n",
       "      <th>4</th>\n",
       "      <td>LWR245</td>\n",
       "      <td>&lt;url&gt;https://luwr3243.celcius.com&lt;/url&gt;</td>\n",
       "      <td>wr3243.celcius.com</td>\n",
       "    </tr>\n",
       "  </tbody>\n",
       "</table>\n",
       "</div>"
      ],
      "text/plain": [
       "  Device_Type                            Stats_Access_Link  \\\n",
       "0      AXO145  <url>https://xcd32112.smart_meter.com</url>   \n",
       "1      TRU151        <url>http://tXh67.dia_meter.com</url>   \n",
       "2      ZOD231     <url>http://yT5495.smart_meter.com</url>   \n",
       "3      YRT326      <url>https://ret323_TRu.crown.com</url>   \n",
       "4      LWR245      <url>https://luwr3243.celcius.com</url>   \n",
       "\n",
       "                      Links  \n",
       "0  xcd32112.smart_meter.com  \n",
       "1        Xh67.dia_meter.com  \n",
       "2    yT5495.smart_meter.com  \n",
       "3       et323_TRu.crown.com  \n",
       "4        wr3243.celcius.com  "
      ]
     },
     "execution_count": 34,
     "metadata": {},
     "output_type": "execute_result"
    }
   ],
   "source": [
    "data_with_links= pd.concat([df_Device_Type, df_Stats_Access_Link, df_links], axis = 1)\n",
    "data_with_links"
   ]
  }
 ],
 "metadata": {
  "kernelspec": {
   "display_name": "Python 3",
   "language": "python",
   "name": "python3"
  },
  "language_info": {
   "codemirror_mode": {
    "name": "ipython",
    "version": 3
   },
   "file_extension": ".py",
   "mimetype": "text/x-python",
   "name": "python",
   "nbconvert_exporter": "python",
   "pygments_lexer": "ipython3",
   "version": "3.8.8"
  }
 },
 "nbformat": 4,
 "nbformat_minor": 5
}
